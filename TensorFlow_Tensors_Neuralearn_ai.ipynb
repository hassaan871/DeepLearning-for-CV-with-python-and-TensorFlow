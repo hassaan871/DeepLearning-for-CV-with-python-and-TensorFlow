{
  "nbformat": 4,
  "nbformat_minor": 0,
  "metadata": {
    "colab": {
      "provenance": [],
      "authorship_tag": "ABX9TyOB5+SXw0Me3hVFAQxpjKpN",
      "include_colab_link": true
    },
    "kernelspec": {
      "name": "python3",
      "display_name": "Python 3"
    },
    "language_info": {
      "name": "python"
    }
  },
  "cells": [
    {
      "cell_type": "markdown",
      "metadata": {
        "id": "view-in-github",
        "colab_type": "text"
      },
      "source": [
        "<a href=\"https://colab.research.google.com/github/hassaan871/DeepLearning-for-CV-with-python-and-TensorFlow/blob/main/TensorFlow_Tensors_Neuralearn_ai.ipynb\" target=\"_parent\"><img src=\"https://colab.research.google.com/assets/colab-badge.svg\" alt=\"Open In Colab\"/></a>"
      ]
    },
    {
      "cell_type": "markdown",
      "source": [
        "**Deep Learning for Computer Vision with Python and Tensorflow - Complete Course (freeCodeCamp.org)**"
      ],
      "metadata": {
        "id": "M_58JSS0E2Jz"
      }
    },
    {
      "cell_type": "markdown",
      "source": [
        "**Tensors and Variables**"
      ],
      "metadata": {
        "id": "P38lkvMcFRdk"
      }
    },
    {
      "cell_type": "markdown",
      "source": [
        "**Learning TensorFlow**\n",
        "-Tensors are multidimensional arrays"
      ],
      "metadata": {
        "id": "fypukj7o2YxE"
      }
    },
    {
      "cell_type": "code",
      "execution_count": 1,
      "metadata": {
        "id": "CtsSvnrgyBGp",
        "outputId": "00e0ba85-9887-49fa-ccac-26365cfa558e",
        "colab": {
          "base_uri": "https://localhost:8080/"
        }
      },
      "outputs": [
        {
          "output_type": "stream",
          "name": "stdout",
          "text": [
            "2.15.0\n",
            "1.25.2\n"
          ]
        }
      ],
      "source": [
        "import tensorflow as tf\n",
        "import numpy as np\n",
        "\n",
        "print(tf.__version__)\n",
        "print(np.__version__)"
      ]
    },
    {
      "cell_type": "code",
      "source": [
        "tensor_zero_d = tf.constant(4)\n",
        "print(tensor_zero_d)"
      ],
      "metadata": {
        "colab": {
          "base_uri": "https://localhost:8080/"
        },
        "id": "r1fHKlQHyeIx",
        "outputId": "dd17cbc9-2b9a-4f6a-8bc7-9ce1b8e76edb"
      },
      "execution_count": null,
      "outputs": [
        {
          "output_type": "stream",
          "name": "stdout",
          "text": [
            "tf.Tensor(4, shape=(), dtype=int32)\n"
          ]
        }
      ]
    },
    {
      "cell_type": "code",
      "source": [
        "tensor_one_d = tf.constant([2,0,-3])\n",
        "print(tensor_one_d)"
      ],
      "metadata": {
        "colab": {
          "base_uri": "https://localhost:8080/"
        },
        "id": "0IWCGYwMymut",
        "outputId": "1ecc4903-7ba4-49e2-deba-f7bd77c17214"
      },
      "execution_count": null,
      "outputs": [
        {
          "output_type": "stream",
          "name": "stdout",
          "text": [
            "tf.Tensor([ 2  0 -3], shape=(3,), dtype=int32)\n"
          ]
        }
      ]
    },
    {
      "cell_type": "code",
      "source": [
        "tensor_two_d = tf.constant([\n",
        "    [1,2,3],\n",
        "    [4,5,6],\n",
        "    [7,8,9]\n",
        "])\n",
        "print(tensor_two_d)"
      ],
      "metadata": {
        "colab": {
          "base_uri": "https://localhost:8080/"
        },
        "id": "x0LyRz590M69",
        "outputId": "5e0b08a6-2a26-4031-9fcd-bb7dae78b067"
      },
      "execution_count": null,
      "outputs": [
        {
          "output_type": "stream",
          "name": "stdout",
          "text": [
            "tf.Tensor(\n",
            "[[1 2 3]\n",
            " [4 5 6]\n",
            " [7 8 9]], shape=(3, 3), dtype=int32)\n"
          ]
        }
      ]
    },
    {
      "cell_type": "code",
      "source": [
        "tensor_three_d = tf.constant([\n",
        "    [[1,2,3],[4,5,6]],\n",
        "    [[4,5,6],[3,2,1]],\n",
        "    [[9,0,1],[7,4,3]],\n",
        "])\n",
        "print(tensor_three_d)"
      ],
      "metadata": {
        "colab": {
          "base_uri": "https://localhost:8080/"
        },
        "id": "Iyn85k0R1FBi",
        "outputId": "ed845672-8d6b-45e6-a123-9567fc12c4ab"
      },
      "execution_count": null,
      "outputs": [
        {
          "output_type": "stream",
          "name": "stdout",
          "text": [
            "tf.Tensor(\n",
            "[[[1 2 3]\n",
            "  [4 5 6]]\n",
            "\n",
            " [[4 5 6]\n",
            "  [3 2 1]]\n",
            "\n",
            " [[9 0 1]\n",
            "  [7 4 3]]], shape=(3, 2, 3), dtype=int32)\n"
          ]
        }
      ]
    },
    {
      "cell_type": "code",
      "source": [
        "print(tensor_zero_d.shape)\n",
        "print(tensor_one_d.shape)\n",
        "print(tensor_two_d.shape)\n",
        "print(tensor_three_d.shape)"
      ],
      "metadata": {
        "colab": {
          "base_uri": "https://localhost:8080/"
        },
        "id": "NQj21bcu2B1t",
        "outputId": "f8ccf9da-38ba-473f-db6b-787467303a99"
      },
      "execution_count": null,
      "outputs": [
        {
          "output_type": "stream",
          "name": "stdout",
          "text": [
            "()\n",
            "(3,)\n",
            "(3,)\n",
            "(3, 3)\n",
            "(3, 2, 3)\n"
          ]
        }
      ]
    },
    {
      "cell_type": "code",
      "source": [
        "print(tensor_zero_d.ndim)\n",
        "print(tensor_one_d.ndim)\n",
        "print(tensor_two_d.ndim)\n",
        "print(tensor_three_d.ndim)"
      ],
      "metadata": {
        "colab": {
          "base_uri": "https://localhost:8080/"
        },
        "id": "9tzQHIdp226V",
        "outputId": "891f8feb-4f1d-47aa-9b73-17051bce29a6"
      },
      "execution_count": null,
      "outputs": [
        {
          "output_type": "stream",
          "name": "stdout",
          "text": [
            "0\n",
            "1\n",
            "2\n",
            "3\n"
          ]
        }
      ]
    },
    {
      "cell_type": "code",
      "source": [
        "tensor_four_d = tf.constant([\n",
        "\n",
        "    [ [[1,2,3],[4,5,6]],\n",
        "    [[4,5,6],[3,2,1]],\n",
        "    [[9,0,1],[7,4,3]],],\n",
        "\n",
        "    [ [[1,2,3],[4,5,6]],\n",
        "    [[4,5,6],[3,2,1]],\n",
        "    [[9,0,1],[7,4,3]],],\n",
        "\n",
        "    [ [[1,2,3],[4,5,6]],\n",
        "    [[4,5,6],[3,2,1]],\n",
        "    [[9,0,1],[7,4,3]],]\n",
        "\n",
        "],dtype=tf.float32)\n",
        "\n",
        "print(tensor_four_d)\n",
        "print(tensor_four_d.shape)\n",
        "print(tensor_four_d.ndim)"
      ],
      "metadata": {
        "colab": {
          "base_uri": "https://localhost:8080/"
        },
        "id": "RIl8xExKFFUf",
        "outputId": "d19d3fd3-5772-4e28-8738-62b444f3f6f0"
      },
      "execution_count": null,
      "outputs": [
        {
          "output_type": "stream",
          "name": "stdout",
          "text": [
            "tf.Tensor(\n",
            "[[[[1. 2. 3.]\n",
            "   [4. 5. 6.]]\n",
            "\n",
            "  [[4. 5. 6.]\n",
            "   [3. 2. 1.]]\n",
            "\n",
            "  [[9. 0. 1.]\n",
            "   [7. 4. 3.]]]\n",
            "\n",
            "\n",
            " [[[1. 2. 3.]\n",
            "   [4. 5. 6.]]\n",
            "\n",
            "  [[4. 5. 6.]\n",
            "   [3. 2. 1.]]\n",
            "\n",
            "  [[9. 0. 1.]\n",
            "   [7. 4. 3.]]]\n",
            "\n",
            "\n",
            " [[[1. 2. 3.]\n",
            "   [4. 5. 6.]]\n",
            "\n",
            "  [[4. 5. 6.]\n",
            "   [3. 2. 1.]]\n",
            "\n",
            "  [[9. 0. 1.]\n",
            "   [7. 4. 3.]]]], shape=(3, 3, 2, 3), dtype=float32)\n",
            "(3, 3, 2, 3)\n",
            "4\n"
          ]
        }
      ]
    },
    {
      "cell_type": "code",
      "source": [
        "tensor_one_d = tf.constant([0.0,2,3-4],dtype=tf.float32)\n",
        "casted_tensor_one_d = tf.cast(tensor_one_d,dtype=tf.int16)\n",
        "boolean_casted_tensor_one_d = tf.cast(casted_tensor_one_d, dtype=tf.bool)\n",
        "print(tensor_one_d)\n",
        "print(casted_tensor_one_d)\n",
        "print(boolean_casted_tensor_one_d)"
      ],
      "metadata": {
        "colab": {
          "base_uri": "https://localhost:8080/"
        },
        "id": "Sjdl7-grIcpV",
        "outputId": "58e92a14-2bea-4243-dfff-a8c778f87668"
      },
      "execution_count": null,
      "outputs": [
        {
          "output_type": "stream",
          "name": "stdout",
          "text": [
            "tf.Tensor([ 0.  2. -1.], shape=(3,), dtype=float32)\n",
            "tf.Tensor([ 0  2 -1], shape=(3,), dtype=int16)\n",
            "tf.Tensor([False  True  True], shape=(3,), dtype=bool)\n"
          ]
        }
      ]
    },
    {
      "cell_type": "code",
      "source": [
        "tensor_bool = tf.constant([True, True, False, True],dtype=tf.bool)\n",
        "print(tensor_bool)"
      ],
      "metadata": {
        "colab": {
          "base_uri": "https://localhost:8080/"
        },
        "id": "R8Mrw611UZVB",
        "outputId": "f4822117-8875-4c45-b77e-a13a93f32924"
      },
      "execution_count": null,
      "outputs": [
        {
          "output_type": "stream",
          "name": "stdout",
          "text": [
            "tf.Tensor([ True  True False  True], shape=(4,), dtype=bool)\n"
          ]
        }
      ]
    },
    {
      "cell_type": "code",
      "source": [
        "tensor_string = tf.constant([\"Hello World\", \"hi\"])\n",
        "print(tensor_string)\n",
        "print(tensor_string.shape)\n",
        "print(tensor_string.ndim)"
      ],
      "metadata": {
        "colab": {
          "base_uri": "https://localhost:8080/"
        },
        "id": "JbJFI8bwVdoi",
        "outputId": "fcddf3b2-d873-4fd4-f8e9-4ac4b9859898"
      },
      "execution_count": null,
      "outputs": [
        {
          "output_type": "stream",
          "name": "stdout",
          "text": [
            "tf.Tensor([b'Hello World' b'hi'], shape=(2,), dtype=string)\n",
            "(2,)\n",
            "1\n"
          ]
        }
      ]
    },
    {
      "cell_type": "markdown",
      "source": [
        "Create a Numpy Array"
      ],
      "metadata": {
        "id": "ZfPIA5YIFn8r"
      }
    },
    {
      "cell_type": "code",
      "source": [
        "np_array = np.array([1,2,4])\n",
        "print(np_array)"
      ],
      "metadata": {
        "id": "KeJS8jbxWPPQ",
        "outputId": "888cc261-4170-46c4-a4ff-e624014b7492",
        "colab": {
          "base_uri": "https://localhost:8080/"
        }
      },
      "execution_count": 2,
      "outputs": [
        {
          "output_type": "stream",
          "name": "stdout",
          "text": [
            "[1 2 4]\n"
          ]
        }
      ]
    },
    {
      "cell_type": "markdown",
      "source": [
        "Convert Numpy Array to Tensor"
      ],
      "metadata": {
        "id": "Q9DL8_Z9F8tY"
      }
    },
    {
      "cell_type": "code",
      "source": [
        "converted_tensor = tf.convert_to_tensor(np_array)\n",
        "print(converted_tensor)"
      ],
      "metadata": {
        "id": "rvjI8ZJiF0Wb",
        "outputId": "93dddce4-faee-4d38-e54a-d7dacbc49624",
        "colab": {
          "base_uri": "https://localhost:8080/"
        }
      },
      "execution_count": 3,
      "outputs": [
        {
          "output_type": "stream",
          "name": "stdout",
          "text": [
            "tf.Tensor([1 2 4], shape=(3,), dtype=int64)\n"
          ]
        }
      ]
    },
    {
      "cell_type": "markdown",
      "source": [
        "**tf.eye**\n",
        "Construct an identity matrix or a batch of matrices"
      ],
      "metadata": {
        "id": "jOd6ZczTGQj9"
      }
    },
    {
      "cell_type": "code",
      "source": [
        "tf.eye(\n",
        "    num_rows = 3,\n",
        "    num_columns=None,\n",
        "    batch_shape=None,\n",
        "    dtype=tf.dtypes.float32,\n",
        "    name=None\n",
        ")"
      ],
      "metadata": {
        "id": "CmSuIEIMGOZa",
        "outputId": "33cba44e-1f27-467c-e569-4c4474a0e31f",
        "colab": {
          "base_uri": "https://localhost:8080/"
        }
      },
      "execution_count": 4,
      "outputs": [
        {
          "output_type": "execute_result",
          "data": {
            "text/plain": [
              "<tf.Tensor: shape=(3, 3), dtype=float32, numpy=\n",
              "array([[1., 0., 0.],\n",
              "       [0., 1., 0.],\n",
              "       [0., 0., 1.]], dtype=float32)>"
            ]
          },
          "metadata": {},
          "execution_count": 4
        }
      ]
    },
    {
      "cell_type": "code",
      "source": [],
      "metadata": {
        "id": "cKwI03jvGgBz"
      },
      "execution_count": null,
      "outputs": []
    }
  ]
}