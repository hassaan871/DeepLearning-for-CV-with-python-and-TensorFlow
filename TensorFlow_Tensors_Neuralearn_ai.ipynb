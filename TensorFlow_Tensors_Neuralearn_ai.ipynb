{
  "nbformat": 4,
  "nbformat_minor": 0,
  "metadata": {
    "colab": {
      "provenance": [],
      "authorship_tag": "ABX9TyNZL4F36WeGafmY0JL3fsFU",
      "include_colab_link": true
    },
    "kernelspec": {
      "name": "python3",
      "display_name": "Python 3"
    },
    "language_info": {
      "name": "python"
    }
  },
  "cells": [
    {
      "cell_type": "markdown",
      "metadata": {
        "id": "view-in-github",
        "colab_type": "text"
      },
      "source": [
        "<a href=\"https://colab.research.google.com/github/hassaan871/DeepLearning-for-CV-with-python-and-TensorFlow/blob/main/TensorFlow_Tensors_Neuralearn_ai.ipynb\" target=\"_parent\"><img src=\"https://colab.research.google.com/assets/colab-badge.svg\" alt=\"Open In Colab\"/></a>"
      ]
    },
    {
      "cell_type": "markdown",
      "source": [
        "**Learning TensorFlow**\n",
        "-Tensors are multidimensional arrays"
      ],
      "metadata": {
        "id": "fypukj7o2YxE"
      }
    },
    {
      "cell_type": "code",
      "execution_count": 1,
      "metadata": {
        "id": "CtsSvnrgyBGp"
      },
      "outputs": [],
      "source": [
        "import tensorflow as tf"
      ]
    },
    {
      "cell_type": "code",
      "source": [
        "tensor_zero_d = tf.constant(4)\n",
        "print(tensor_zero_d)"
      ],
      "metadata": {
        "colab": {
          "base_uri": "https://localhost:8080/"
        },
        "id": "r1fHKlQHyeIx",
        "outputId": "dd17cbc9-2b9a-4f6a-8bc7-9ce1b8e76edb"
      },
      "execution_count": 2,
      "outputs": [
        {
          "output_type": "stream",
          "name": "stdout",
          "text": [
            "tf.Tensor(4, shape=(), dtype=int32)\n"
          ]
        }
      ]
    },
    {
      "cell_type": "code",
      "source": [
        "tensor_one_d = tf.constant([2,0,-3])\n",
        "print(tensor_one_d)"
      ],
      "metadata": {
        "colab": {
          "base_uri": "https://localhost:8080/"
        },
        "id": "0IWCGYwMymut",
        "outputId": "1ecc4903-7ba4-49e2-deba-f7bd77c17214"
      },
      "execution_count": 3,
      "outputs": [
        {
          "output_type": "stream",
          "name": "stdout",
          "text": [
            "tf.Tensor([ 2  0 -3], shape=(3,), dtype=int32)\n"
          ]
        }
      ]
    },
    {
      "cell_type": "code",
      "source": [
        "tensor_two_d = tf.constant([\n",
        "    [1,2,3],\n",
        "    [4,5,6],\n",
        "    [7,8,9]\n",
        "])\n",
        "print(tensor_two_d)"
      ],
      "metadata": {
        "colab": {
          "base_uri": "https://localhost:8080/"
        },
        "id": "x0LyRz590M69",
        "outputId": "5e0b08a6-2a26-4031-9fcd-bb7dae78b067"
      },
      "execution_count": 5,
      "outputs": [
        {
          "output_type": "stream",
          "name": "stdout",
          "text": [
            "tf.Tensor(\n",
            "[[1 2 3]\n",
            " [4 5 6]\n",
            " [7 8 9]], shape=(3, 3), dtype=int32)\n"
          ]
        }
      ]
    },
    {
      "cell_type": "code",
      "source": [
        "tensor_three_d = tf.constant([\n",
        "    [[1,2,3],[4,5,6]],\n",
        "    [[4,5,6],[3,2,1]],\n",
        "    [[9,0,1],[7,4,3]],\n",
        "])\n",
        "print(tensor_three_d)"
      ],
      "metadata": {
        "colab": {
          "base_uri": "https://localhost:8080/"
        },
        "id": "Iyn85k0R1FBi",
        "outputId": "ed845672-8d6b-45e6-a123-9567fc12c4ab"
      },
      "execution_count": 6,
      "outputs": [
        {
          "output_type": "stream",
          "name": "stdout",
          "text": [
            "tf.Tensor(\n",
            "[[[1 2 3]\n",
            "  [4 5 6]]\n",
            "\n",
            " [[4 5 6]\n",
            "  [3 2 1]]\n",
            "\n",
            " [[9 0 1]\n",
            "  [7 4 3]]], shape=(3, 2, 3), dtype=int32)\n"
          ]
        }
      ]
    },
    {
      "cell_type": "code",
      "source": [
        "print(tensor_zero_d.shape)\n",
        "print(tensor_one_d.shape)\n",
        "print(tensor_two_d.shape)\n",
        "print(tensor_three_d.shape)"
      ],
      "metadata": {
        "colab": {
          "base_uri": "https://localhost:8080/"
        },
        "id": "NQj21bcu2B1t",
        "outputId": "f8ccf9da-38ba-473f-db6b-787467303a99"
      },
      "execution_count": 7,
      "outputs": [
        {
          "output_type": "stream",
          "name": "stdout",
          "text": [
            "()\n",
            "(3,)\n",
            "(3,)\n",
            "(3, 3)\n",
            "(3, 2, 3)\n"
          ]
        }
      ]
    },
    {
      "cell_type": "code",
      "source": [
        "print(tensor_zero_d.ndim)\n",
        "print(tensor_one_d.ndim)\n",
        "print(tensor_two_d.ndim)\n",
        "print(tensor_three_d.ndim)"
      ],
      "metadata": {
        "colab": {
          "base_uri": "https://localhost:8080/"
        },
        "id": "9tzQHIdp226V",
        "outputId": "891f8feb-4f1d-47aa-9b73-17051bce29a6"
      },
      "execution_count": 8,
      "outputs": [
        {
          "output_type": "stream",
          "name": "stdout",
          "text": [
            "0\n",
            "1\n",
            "2\n",
            "3\n"
          ]
        }
      ]
    },
    {
      "cell_type": "code",
      "source": [
        "tensor_four_d = tf.constant([\n",
        "\n",
        "    [ [[1,2,3],[4,5,6]],\n",
        "    [[4,5,6],[3,2,1]],\n",
        "    [[9,0,1],[7,4,3]],],\n",
        "\n",
        "    [ [[1,2,3],[4,5,6]],\n",
        "    [[4,5,6],[3,2,1]],\n",
        "    [[9,0,1],[7,4,3]],],\n",
        "\n",
        "    [ [[1,2,3],[4,5,6]],\n",
        "    [[4,5,6],[3,2,1]],\n",
        "    [[9,0,1],[7,4,3]],]\n",
        "\n",
        "],dtype=tf.float32)\n",
        "\n",
        "print(tensor_four_d)\n",
        "print(tensor_four_d.shape)\n",
        "print(tensor_four_d.ndim)"
      ],
      "metadata": {
        "colab": {
          "base_uri": "https://localhost:8080/"
        },
        "id": "RIl8xExKFFUf",
        "outputId": "d19d3fd3-5772-4e28-8738-62b444f3f6f0"
      },
      "execution_count": 13,
      "outputs": [
        {
          "output_type": "stream",
          "name": "stdout",
          "text": [
            "tf.Tensor(\n",
            "[[[[1. 2. 3.]\n",
            "   [4. 5. 6.]]\n",
            "\n",
            "  [[4. 5. 6.]\n",
            "   [3. 2. 1.]]\n",
            "\n",
            "  [[9. 0. 1.]\n",
            "   [7. 4. 3.]]]\n",
            "\n",
            "\n",
            " [[[1. 2. 3.]\n",
            "   [4. 5. 6.]]\n",
            "\n",
            "  [[4. 5. 6.]\n",
            "   [3. 2. 1.]]\n",
            "\n",
            "  [[9. 0. 1.]\n",
            "   [7. 4. 3.]]]\n",
            "\n",
            "\n",
            " [[[1. 2. 3.]\n",
            "   [4. 5. 6.]]\n",
            "\n",
            "  [[4. 5. 6.]\n",
            "   [3. 2. 1.]]\n",
            "\n",
            "  [[9. 0. 1.]\n",
            "   [7. 4. 3.]]]], shape=(3, 3, 2, 3), dtype=float32)\n",
            "(3, 3, 2, 3)\n",
            "4\n"
          ]
        }
      ]
    },
    {
      "cell_type": "code",
      "source": [
        "tensor_one_d = tf.constant([0.0,2,3-4],dtype=tf.float32)\n",
        "casted_tensor_one_d = tf.cast(tensor_one_d,dtype=tf.int16)\n",
        "boolean_casted_tensor_one_d = tf.cast(casted_tensor_one_d, dtype=tf.bool)\n",
        "print(tensor_one_d)\n",
        "print(casted_tensor_one_d)\n",
        "print(boolean_casted_tensor_one_d)"
      ],
      "metadata": {
        "colab": {
          "base_uri": "https://localhost:8080/"
        },
        "id": "Sjdl7-grIcpV",
        "outputId": "58e92a14-2bea-4243-dfff-a8c778f87668"
      },
      "execution_count": 15,
      "outputs": [
        {
          "output_type": "stream",
          "name": "stdout",
          "text": [
            "tf.Tensor([ 0.  2. -1.], shape=(3,), dtype=float32)\n",
            "tf.Tensor([ 0  2 -1], shape=(3,), dtype=int16)\n",
            "tf.Tensor([False  True  True], shape=(3,), dtype=bool)\n"
          ]
        }
      ]
    },
    {
      "cell_type": "code",
      "source": [
        "tensor_bool = tf.constant([True, True, False, True],dtype=tf.bool)\n",
        "print(tensor_bool)"
      ],
      "metadata": {
        "colab": {
          "base_uri": "https://localhost:8080/"
        },
        "id": "R8Mrw611UZVB",
        "outputId": "f4822117-8875-4c45-b77e-a13a93f32924"
      },
      "execution_count": 17,
      "outputs": [
        {
          "output_type": "stream",
          "name": "stdout",
          "text": [
            "tf.Tensor([ True  True False  True], shape=(4,), dtype=bool)\n"
          ]
        }
      ]
    },
    {
      "cell_type": "code",
      "source": [
        "tensor_string = tf.constant([\"Hello World\", \"hi\"])\n",
        "print(tensor_string)\n",
        "print(tensor_string.shape)\n",
        "print(tensor_string.ndim)"
      ],
      "metadata": {
        "colab": {
          "base_uri": "https://localhost:8080/"
        },
        "id": "JbJFI8bwVdoi",
        "outputId": "fcddf3b2-d873-4fd4-f8e9-4ac4b9859898"
      },
      "execution_count": 21,
      "outputs": [
        {
          "output_type": "stream",
          "name": "stdout",
          "text": [
            "tf.Tensor([b'Hello World' b'hi'], shape=(2,), dtype=string)\n",
            "(2,)\n",
            "1\n"
          ]
        }
      ]
    },
    {
      "cell_type": "code",
      "source": [],
      "metadata": {
        "id": "KeJS8jbxWPPQ"
      },
      "execution_count": null,
      "outputs": []
    }
  ]
}